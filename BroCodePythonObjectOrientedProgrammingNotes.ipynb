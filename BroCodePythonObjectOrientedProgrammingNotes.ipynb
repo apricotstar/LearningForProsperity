{
 "cells": [
  {
   "cell_type": "markdown",
   "metadata": {},
   "source": [
    "#### Object Oriented Programming in Python ####\n",
    "### Use Programming to Emulate Objects in Real Life ###\n",
    "... using a combination of \n",
    "\n",
    "1. Attributes\n",
    "- things that your object has\n",
    "    Car object could have a make, model, year, etc.\n",
    "2. Methods\n",
    "\n",
    "\n",
    "-- where should we create classes?\n",
    "1. in main module (smaller classes)\n",
    "2. in a separate module (different python file)\n",
    "            # from car (file name) import Car (class name)\n",
    "- when we do this method, we need to import the class into our main file\n",
    "\n",
    "# What is a Constructor? #\n",
    "- in other languages, a constructor is something that creates objects for us \n",
    "\n",
    "-- in Python, we \"create a constructor\" by defining an __init__ method"
   ]
  },
  {
   "cell_type": "code",
   "execution_count": 8,
   "metadata": {},
   "outputs": [],
   "source": [
    "# Creating a Class\n",
    "\n",
    "##common naming convention of classes: capitalize Class names!\n",
    "class Car: \n",
    "    \n",
    "    \n",
    "    #create some attributes\n",
    "    make = None\n",
    "    model = None\n",
    "    \n",
    "    \n",
    "    ##create a special method init ('constructor')\n",
    "    def __init__(self, make, model):\n",
    "        self.make = make\n",
    "        self.model = model\n",
    "    \n",
    "    #create some methods \n",
    "    def drive(self):\n",
    "        print(\"This \" + self.model + \" is driving\")\n",
    "    \n",
    "    def stop(self):\n",
    "        print(\"This car is stopped\")"
   ]
  },
  {
   "cell_type": "code",
   "execution_count": 9,
   "metadata": {},
   "outputs": [
    {
     "name": "stdout",
     "output_type": "stream",
     "text": [
      "Chevy\n",
      "Corvette\n",
      "This Corvette is driving\n",
      "This car is stopped\n",
      "Ford\n",
      "Mustang\n"
     ]
    }
   ],
   "source": [
    "#let's make some car objects\n",
    "\n",
    "#in python we do not need to pass in self \n",
    "car_1 = Car(\"Chevy\", \"Corvette\")\n",
    "\n",
    "##print out some attributes of the car\n",
    "print(car_1.make)\n",
    "print(car_1.model)\n",
    "\n",
    "##execute some methods of car \n",
    "car_1.drive()\n",
    "car_1.stop()\n",
    "\n",
    "car_2 = Car(\"Ford\", \"Mustang\")\n",
    "print(car_2.make)\n",
    "print(car_2.model)"
   ]
  }
 ],
 "metadata": {
  "kernelspec": {
   "display_name": "cellpose",
   "language": "python",
   "name": "python3"
  },
  "language_info": {
   "codemirror_mode": {
    "name": "ipython",
    "version": 3
   },
   "file_extension": ".py",
   "mimetype": "text/x-python",
   "name": "python",
   "nbconvert_exporter": "python",
   "pygments_lexer": "ipython3",
   "version": "3.8.18"
  }
 },
 "nbformat": 4,
 "nbformat_minor": 2
}
