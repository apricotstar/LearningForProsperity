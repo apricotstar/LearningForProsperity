{
 "cells": [
  {
   "cell_type": "code",
   "execution_count": 10,
   "metadata": {},
   "outputs": [
    {
     "name": "stdout",
     "output_type": "stream",
     "text": [
      "(AMETHYSTS, SUBMISSION << , 10000, 1, 1)\n"
     ]
    }
   ],
   "source": [
    "## Trade class\n",
    "\n",
    "Symbol = str\n",
    "UserId = str\n",
    "\n",
    "class Trade:\n",
    "    def __init__(self, symbol: Symbol, price: int, quantity: int, buyer: UserId = None, seller: UserId = None, timestamp: int = 0) -> None:\n",
    "        self.symbol = symbol\n",
    "        self.price: int = price\n",
    "        self.quantity: int = quantity\n",
    "        self.buyer = buyer\n",
    "        self.seller = seller\n",
    "        self.timestamp = timestamp\n",
    "\n",
    "    def __str__(self) -> str:\n",
    "        return \"(\" + self.symbol + \", \" + self.buyer + \" << \" + self.seller + \", \" + str(self.price) + \", \" + str(self.quantity) + \", \" + str(self.timestamp) + \")\"\n",
    "\n",
    "    def __repr__(self) -> str:\n",
    "        return \"(\" + self.symbol + \", \" + self.buyer + \" << \" + self.seller + \", \" + str(self.price) + \", \" + str(self.quantity) + \", \" + str(self.timestamp) + \")\" + self.symbol + \", \" + self.buyer + \" << \" + self.seller + \", \" + str(self.price) + \", \" + str(self.quantity) + \")\"\n",
    "    \n",
    "\n",
    "\n"
   ]
  },
  {
   "cell_type": "code",
   "execution_count": null,
   "metadata": {},
   "outputs": [],
   "source": [
    "##let us try to create an object of Trade class\n",
    "\n",
    "#the algorithm itself is the buyer\n",
    "exBid = Trade('AMETHYSTS', 10000, 1, 'SUBMISSION', '', 1)\n",
    "#buyers make bids (they bid for an item that they want to buy)\n",
    "\n",
    "exAsk = Trade('AMETHYSTS', 10000, 1, '', 'SUBMISSION', 1)\n",
    "#seller have asks (they ask for a certain price for the item that they have)\n",
    "\n",
    "print(exBid)"
   ]
  },
  {
   "cell_type": "code",
   "execution_count": 11,
   "metadata": {},
   "outputs": [
    {
     "ename": "NameError",
     "evalue": "name 'exOrderDepth' is not defined",
     "output_type": "error",
     "traceback": [
      "\u001b[1;31m---------------------------------------------------------------------------\u001b[0m",
      "\u001b[1;31mNameError\u001b[0m                                 Traceback (most recent call last)",
      "Cell \u001b[1;32mIn[11], line 10\u001b[0m\n\u001b[0;32m      6\u001b[0m         \u001b[38;5;28mself\u001b[39m\u001b[38;5;241m.\u001b[39msell_orders: Dict[\u001b[38;5;28mint\u001b[39m, \u001b[38;5;28mint\u001b[39m] \u001b[38;5;241m=\u001b[39m {}\n\u001b[0;32m      8\u001b[0m \u001b[38;5;66;03m##I think... there should exist one object OrderDepth per product per timestamp\u001b[39;00m\n\u001b[1;32m---> 10\u001b[0m exOrderDepth\n",
      "\u001b[1;31mNameError\u001b[0m: name 'exOrderDepth' is not defined"
     ]
    }
   ],
   "source": [
    "##OrderDepth Class\n",
    "\n",
    "class OrderDepth:\n",
    "    def __init__(self):\n",
    "        self.buy_orders: Dict[int, int] = {}\n",
    "        self.sell_orders: Dict[int, int] = {}\n",
    "\n",
    "##I think... there should exist one object OrderDepth per product per timestamp\n",
    "\n",
    "exOrderDepth = "
   ]
  },
  {
   "cell_type": "code",
   "execution_count": null,
   "metadata": {},
   "outputs": [],
   "source": []
  }
 ],
 "metadata": {
  "kernelspec": {
   "display_name": "imc",
   "language": "python",
   "name": "python3"
  },
  "language_info": {
   "codemirror_mode": {
    "name": "ipython",
    "version": 3
   },
   "file_extension": ".py",
   "mimetype": "text/x-python",
   "name": "python",
   "nbconvert_exporter": "python",
   "pygments_lexer": "ipython3",
   "version": "3.11.8"
  }
 },
 "nbformat": 4,
 "nbformat_minor": 2
}
